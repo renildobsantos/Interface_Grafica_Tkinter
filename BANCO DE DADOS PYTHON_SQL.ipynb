{
 "cells": [
  {
   "cell_type": "code",
   "execution_count": null,
   "id": "c6a184ce",
   "metadata": {},
   "outputs": [],
   "source": [
    "import pyodbc\n",
    "\n",
    "dados_conexao = (\n",
    "    'Driver={SQL Server};'\n",
    "    'Server=DESKTOP-GNKLBRN;'\n",
    "    'Database=PythonSQL;'\n",
    ")\n",
    "conexao = pyodbc.connect(dados_conexao)\n",
    "\n",
    "print('CONEXÃO BEM SUCEDIDA!!')\n",
    "\n",
    "cursor = conexao.cursor()\n",
    "comando = \"\"\"INSERT INTO Produtos(id_produto, Descricao, Preco, Categoria) \n",
    "VALUES (1, 'iphone', 1200, 'informatica')\"\"\"\n",
    "\n",
    "cursor.execute(comando)\n",
    "cursor.commit()\n"
   ]
  },
  {
   "cell_type": "markdown",
   "id": "431508e5",
   "metadata": {},
   "source": [
    "## Site = https://www.w3schools.com/colors/colors_picker.asp"
   ]
  },
  {
   "cell_type": "code",
   "execution_count": null,
   "id": "07ced07a",
   "metadata": {},
   "outputs": [],
   "source": [
    "import tkinter as tk\n",
    "from tkinter import ttk\n",
    "import datetime as dt\n",
    "\n",
    "lista_categoria = ['Informática', 'Alimentos']\n",
    "lista_produto = []\n",
    "\n",
    "janela = tk.Tk()\n",
    "\n",
    "# CRIAR FUNÇÃO\n",
    "def inserir_cadastro():\n",
    "    descricao = entry_descricao.get()\n",
    "    preco  = entry_preco.get()\n",
    "    categoria = combobox_categoria.get()\n",
    "    data_criacao = dt.datetime.now()\n",
    "    data_criacao = data_criacao.strftime('%d/%m/%Y %H:%M')\n",
    "    lista_produto.append((descricao, preco, categoria, data_criacao))\n",
    "\n",
    "# TITULO DA JANELA\n",
    "janela.title('CADASTRO DE PRODUTOS')\n",
    "janela.geometry('350x200')\n",
    "janela.config(background='#00bfff')\n",
    "\n",
    "label_descricao = tk.Label(text='Descrição do Produto', font='Arial 8', fg='blue')\n",
    "label_descricao.grid(row=1, column=0, padx=10, pady=10, sticky='nswe', columnspan=2)\n",
    "\n",
    "entry_descricao = tk.Entry()\n",
    "entry_descricao.grid(row=1, column=2, padx=10, pady=10, sticky='nswe', columnspan=4)\n",
    "\n",
    "label_preco = tk.Label(text='Preço do Produto', font='Arial 8', fg='blue')\n",
    "label_preco.grid(row=2, column=0, padx=10, pady=10, sticky='nswe', columnspan=2)\n",
    "\n",
    "entry_preco = tk.Entry()\n",
    "entry_preco.grid(row=2, column=2, padx=10, pady=10, sticky='nswe', columnspan=4)\n",
    "\n",
    "label_categoria = tk.Label(text='Categoria do Produto', font='Arial 8', fg='blue')\n",
    "label_categoria.grid(row=3, column=0, padx=10, pady=10, sticky='nswe', columnspan=2)\n",
    "\n",
    "combobox_categoria = ttk.Combobox(values=lista_categoria)\n",
    "combobox_categoria.grid(row=3, column=2, padx=10, pady=10, sticky='nswe', columnspan=4)\n",
    "\n",
    "Botao_cadastrar = tk.Button(text='Cadastrar', command=inserir_cadastro)\n",
    "Botao_cadastrar.grid(row=4, column=2, padx=10, pady=10, sticky='nswe', columnspan=4)\n",
    "\n",
    "janela.mainloop()\n",
    "\n",
    "print(lista_produto)\n"
   ]
  },
  {
   "cell_type": "code",
   "execution_count": null,
   "id": "cb4a28b6",
   "metadata": {},
   "outputs": [],
   "source": []
  }
 ],
 "metadata": {
  "kernelspec": {
   "display_name": "Python 3",
   "language": "python",
   "name": "python3"
  },
  "language_info": {
   "codemirror_mode": {
    "name": "ipython",
    "version": 3
   },
   "file_extension": ".py",
   "mimetype": "text/x-python",
   "name": "python",
   "nbconvert_exporter": "python",
   "pygments_lexer": "ipython3",
   "version": "3.8.8"
  }
 },
 "nbformat": 4,
 "nbformat_minor": 5
}
